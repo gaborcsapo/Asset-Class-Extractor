{
 "cells": [
  {
   "cell_type": "markdown",
   "metadata": {},
   "source": [
    "Getting the number of pages in the PDF document. I altered the original PDFMiner library in tools/pdf2txt.py so that with the extra -Q argument, the script returns the no of pages."
   ]
  },
  {
   "cell_type": "code",
   "execution_count": 384,
   "metadata": {
    "collapsed": false,
    "scrolled": true
   },
   "outputs": [
    {
     "name": "stdout",
     "output_type": "stream",
     "text": [
      "['29. Northern Trust Asset Mgmt. (US) 2010.pdf', '12. BlackRock (US) 2009.pdf', '10. Rowe Price (US) 2012.pdf', '91. Allianz Group (Germany) 2010.pdf', \"99. but in fact it's 108 J.P. Morgan Chase (US) 2013.pdf\", '08. Templeton Investments (US) 2009.pdf', '37. Bank of New York Mellon (US) 2015.pdf', '11. Schroders Investment Managment (UK) 2012.pdf', '51. Goldman Sachs (US) 2010.pdf', '08. Invesco (US) 2010.pdf', '53. Deutsche Bank (Germany) 2012.pdf']\n",
      "53. Deutsche Bank (Germany) 2012.pdf\n",
      "53,54,55\n",
      "Traceback (most recent call last):\n",
      "  File \"./pdf2txt/tools/pdf2txt.py\", line 126, in <module>\n",
      "    if __name__ == '__main__': sys.exit(main(sys.argv))\n",
      "  File \"./pdf2txt/tools/pdf2txt.py\", line 112, in main\n",
      "    caching=caching, check_extractable=True):\n",
      "  File \"/home/gabor/.local/lib/python2.7/site-packages/pdfminer/pdfpage.py\", line 124, in get_pages\n",
      "    raise PDFTextExtractionNotAllowed('Text extraction is not allowed: %r' % fp)\n",
      "pdfminer.pdfdocument.PDFTextExtractionNotAllowed: Text extraction is not allowed: <open file './docs/53. Deutsche Bank (Germany) 2012.pdf', mode 'rb' at 0x7fcb3f8e80c0>\n",
      "\n",
      "python2 ./pdf2txt/tools/pdf2txt.py -p 53,54,55 -t text -Q ./docs/53. Deutsche Bank (Germany) 2012.pdf\n"
     ]
    },
    {
     "ename": "ValueError",
     "evalue": "invalid literal for int() with base 10: ''",
     "output_type": "error",
     "traceback": [
      "\u001b[0;31m---------------------------------------------------------------------------\u001b[0m",
      "\u001b[0;31mValueError\u001b[0m                                Traceback (most recent call last)",
      "\u001b[0;32m<ipython-input-384-b207dcda40f9>\u001b[0m in \u001b[0;36m<module>\u001b[0;34m()\u001b[0m\n\u001b[1;32m     27\u001b[0m     \u001b[0mprint\u001b[0m\u001b[0;34m(\u001b[0m\u001b[0merror\u001b[0m\u001b[0;34m.\u001b[0m\u001b[0mdecode\u001b[0m\u001b[0;34m(\u001b[0m\u001b[0;34m\"utf-8\"\u001b[0m\u001b[0;34m)\u001b[0m\u001b[0;34m)\u001b[0m\u001b[0;34m\u001b[0m\u001b[0m\n\u001b[1;32m     28\u001b[0m \u001b[0mprint\u001b[0m\u001b[0;34m(\u001b[0m\u001b[0;34m' '\u001b[0m\u001b[0;34m.\u001b[0m\u001b[0mjoin\u001b[0m\u001b[0;34m(\u001b[0m\u001b[0mcmd\u001b[0m\u001b[0;34m)\u001b[0m\u001b[0;34m)\u001b[0m\u001b[0;34m\u001b[0m\u001b[0m\n\u001b[0;32m---> 29\u001b[0;31m \u001b[0mpages\u001b[0m \u001b[0;34m=\u001b[0m \u001b[0mint\u001b[0m\u001b[0;34m(\u001b[0m\u001b[0mtemp\u001b[0m\u001b[0;34m.\u001b[0m\u001b[0mdecode\u001b[0m\u001b[0;34m(\u001b[0m\u001b[0;34m\"utf-8\"\u001b[0m\u001b[0;34m)\u001b[0m\u001b[0;34m)\u001b[0m\u001b[0;34m\u001b[0m\u001b[0m\n\u001b[0m\u001b[1;32m     30\u001b[0m \u001b[0mprint\u001b[0m\u001b[0;34m(\u001b[0m\u001b[0;34m'Number of pages: '\u001b[0m\u001b[0;34m,\u001b[0m \u001b[0mpages\u001b[0m\u001b[0;34m)\u001b[0m\u001b[0;34m\u001b[0m\u001b[0m\n",
      "\u001b[0;31mValueError\u001b[0m: invalid literal for int() with base 10: ''"
     ]
    }
   ],
   "source": [
    "import subprocess\n",
    "import re\n",
    "import tabula\n",
    "from os import remove as DeleteFile\n",
    "from os import listdir\n",
    "from os.path import isfile, join\n",
    "#getting file names from docs\n",
    "mypath = './docs'\n",
    "files_docs = [f for f in listdir(mypath) if isfile(join(mypath, f))]\n",
    "file = files_docs[0]\n",
    "print(files_docs)\n",
    "#checking if name meets standards for later printing use\n",
    "pattern = re.compile(\"^\\d{2,3}\\. [\\S\\s]+? \\([A-Za-z ]+\\) \\d{4} ?Q?[1-4]?\")\n",
    "match = pattern.match(file)\n",
    "if (match):\n",
    "    title = match.string\n",
    "    print(title)\n",
    "path = \"./docs/\" + file\n",
    "OFFSET = int(file[0:2])\n",
    "OFFSET_STRING = str(OFFSET)+','+str(OFFSET+1)+','+str(OFFSET+2)\n",
    "\n",
    "cmd = ['python2', './pdf2txt/tools/pdf2txt.py', '-p', OFFSET_STRING, '-t', 'text', '-Q', path]\n",
    "p = subprocess.Popen(cmd, stdout=subprocess.PIPE, stderr=subprocess.PIPE)\n",
    "temp, error = p.communicate()\n",
    "if error:\n",
    "    print(error.decode(\"utf-8\"))\n",
    "pages = int(temp.decode(\"utf-8\"))\n",
    "print('Number of pages: ', pages)"
   ]
  },
  {
   "cell_type": "markdown",
   "metadata": {},
   "source": [
    "I load the pages into the document object."
   ]
  },
  {
   "cell_type": "code",
   "execution_count": 380,
   "metadata": {
    "collapsed": false
   },
   "outputs": [
    {
     "name": "stdout",
     "output_type": "stream",
     "text": [
      "p 0  is loading\n",
      "['python2', './pdf2txt/tools/pdf2txt.py', '-o', './temp/output0.txt', '-p', '8', '-t', 'text', './docs/08. Invesco (US) 2010.pdf']\n",
      "p 1  is loading\n",
      "['python2', './pdf2txt/tools/pdf2txt.py', '-o', './temp/output1.txt', '-p', '9', '-t', 'text', './docs/08. Invesco (US) 2010.pdf']\n",
      "p 2  is loading\n",
      "['python2', './pdf2txt/tools/pdf2txt.py', '-o', './temp/output2.txt', '-p', '10', '-t', 'text', './docs/08. Invesco (US) 2010.pdf']\n",
      "Document loaded\n"
     ]
    }
   ],
   "source": [
    "document = {}\n",
    "for page in range(pages):\n",
    "    print(\"p\",page, \" is loading\")\n",
    "    document[OFFSET+page] = ''\n",
    "    #cmd = [\"python2 ./pdf2txt/tools/pdf2txt.py -o ./temp/output\"+str(page)+\".txt -p \"+ str(OFFSET+page) +\" -t text '\" + path+\"'\"]\n",
    "    #subprocess.call(cmd, shell = True)\n",
    "    cmd = [\"python2\", \"./pdf2txt/tools/pdf2txt.py\", \"-o\", \"./temp/output\"+str(page)+\".txt\", \"-p\", str(OFFSET+page),\"-t\", \"text\", path]\n",
    "    print(cmd)\n",
    "    p = subprocess.Popen(cmd, stdout=subprocess.PIPE, stderr=subprocess.PIPE)\n",
    "    temp, error = p.communicate()\n",
    "    if error:\n",
    "        print(error.decode(\"utf-8\"))\n",
    "        \n",
    "    with open(\"./temp/output\"+str(page)+\".txt\", \"r\") as page_output:\n",
    "        for line in page_output:\n",
    "            document[OFFSET+page] += line.strip().lower() + ' '\n",
    "    page_output.close()\n",
    "#DeleteFile('./output.txt')    \n",
    "print(\"Document loaded\")"
   ]
  },
  {
   "cell_type": "markdown",
   "metadata": {},
   "source": [
    "Once loaded, the document has to go through a basic page scoring step. If the page doesn't contain Asset/Investment allocation or the two words equity and fixed income, then the page is thrown away."
   ]
  },
  {
   "cell_type": "code",
   "execution_count": 381,
   "metadata": {
    "collapsed": false,
    "scrolled": true
   },
   "outputs": [
    {
     "name": "stdout",
     "output_type": "stream",
     "text": [
      "[('', '', 'equity balanced money market fixed income', 'y', '', ''), ('', '', 'equity 47.7%  fixed income', 'y', '', '')]\n",
      "[('', '', '', '', 'fixed income, balanced, equity', 'y'), ('', '', 'equity  products  in  china,  with  aum  of  approximately  $7.2 billion  as  of  december  31,  2010.  invesco powershares  adds  a  leading set of  etf  products (with  $55.7 billion  in  aum  and 176  exchange-traded  funds  as of december 31, 2010) to the extensive choices we make available to our retail investors. we provide our retail clients with one of the industry’s most robust and comprehensive product lines.   institutional  we provide investment solutions to institutional investors globally, with a major presence in the u.s., u.k., continental europe and  asia-pacific  with  $221.1 billion  in  aum  as  of  december  31, 2010.  we  offer  a  broad  suite  of  domestic  and  global  products, including traditional equities, structured equities, fixed income', 'y', '', ''), ('asset allocation', 'asset', '', '', '', '')]\n",
      "[('', '', 'equity and balanced accounts, along with real estate and alternative asset products, and lower fees earned on fixed income', 'y', '', ''), ('', '', 'equity markets, historical norms have not returned and the potential for extreme disruptions remains. these market events have materially impacted our results of operations, and may continue to do so, and could materially impact our financial condition and liquidity. in this regard:   •  the  volatility  of  global  market  conditions  around  the  world  has  resulted,  and  may  continue  to  result,  in  significant volatility  in  our  assets  under  management  and  in  our  revenues,  driven  by  market  value  fluctuations  on  our  managed portfolios. in addition to the impact of the market values on client portfolios, the illiquidity and volatility of both the global fixed income', 'y', '', '')]\n"
     ]
    }
   ],
   "source": [
    "page_nomination = []\n",
    "case1 = \"(asset|investments?)\\sallocation\"\n",
    "case2 = \"equit(y|ies)[\\s\\S]*?fixed\\sincome\"\n",
    "case3 = \"fixed\\sincome[\\s\\S]*?equit(y|ies)\"\n",
    "cases = \"(\"+case1+\")|(\"+case2+\")|(\"+case3+\")\"\n",
    "p = re.compile(cases)\n",
    "for page in document:\n",
    "    matches = p.findall(document[page])\n",
    "    if matches:\n",
    "        page_nomination.append(page)\n",
    "    print(matches)\n",
    "#taking subset of original document object\n",
    "document = {k: document[k] for k in page_nomination}\n"
   ]
  },
  {
   "cell_type": "markdown",
   "metadata": {},
   "source": [
    "To analyze the pages, first I'll try to convert it to a table and then I'll validate the first table column entries (equity, fixed income, and optionally multi asset and alternatives) I'll also try to look for columns indicating years."
   ]
  },
  {
   "cell_type": "code",
   "execution_count": 383,
   "metadata": {
    "collapsed": false,
    "scrolled": true
   },
   "outputs": [
    {
     "name": "stdout",
     "output_type": "stream",
     "text": [
      "                   ($ billions)  1-Yr Change      Unnamed: 2 Unnamed: 3\n",
      "0                 Retail $378.4        58.1%             NaN        NaN\n",
      "1          Institutional $221.1         7.9%             NaN        NaN\n",
      "2                     PWM $17.0        11.8%             NaN        Ins\n",
      "3                  Total $616.5        34.2%             NaN        NaN\n",
      "4                           NaN          NaN             NaN        NaN\n",
      "5                           NaN          NaN             NaN        NaN\n",
      "6                           NaN          NaN             NaN        NaN\n",
      "7                           NaN          NaN  Private Wealth        NaN\n",
      "8                           NaN          NaN     M anagement        NaN\n",
      "9                           NaN          NaN              3%        NaN\n",
      "10                          NaN          NaN             NaN        NaN\n",
      "11                          NaN          NaN             NaN        NaN\n",
      "12                          NaN          NaN             NaN        NaN\n",
      "13               By Asset Class          NaN             NaN        NaN\n",
      "14                          NaN          NaN             NaN        NaN\n",
      "15                 ($ billions)  1-Yr Change             NaN        NaN\n",
      "16                Equity $294.1        52.6%             NaN        NaN\n",
      "17               Balanced $43.5         9.0%             NaN        NaN\n",
      "18           Money Market $68.3      (18.2)%             NaN        NaN\n",
      "19          Fixed Income $131.9        73.3%             NaN        NaN\n",
      "20          EqAlternative $78.7        16.9%             NaN        47.\n",
      "21                 Total $616.5        34.2%             NaN        NaN\n",
      "22                          NaN          NaN             NaN        NaN\n",
      "23                          NaN          NaN             NaN        NaN\n",
      "24                          NaN          NaN             NaN        NaN\n",
      "25                          NaN          NaN             NaN        NaN\n",
      "26                          NaN          NaN             NaN        NaN\n",
      "27          Non-Passive/Passive          NaN             NaN        NaN\n",
      "28                          NaN          NaN             NaN        NaN\n",
      "29                 ($ billions)  1-Yr Change             NaN        NaN\n",
      "30           Non-Passive $535.7        31.8%             NaN        NaN\n",
      "31  ETF, UIT, and Passive $80.8        52.5%             NaN        NaN\n",
      "32                 Total $616.5        34.2%             NaN        NaN\n",
      "Empty DataFrame\n",
      "Columns: [0, 1]\n",
      "Index: [] \n",
      "\n",
      "Invalid values\n"
     ]
    },
    {
     "name": "stderr",
     "output_type": "stream",
     "text": [
      "/home/gabor/anaconda3/lib/python3.6/site-packages/ipykernel/__main__.py:10: UserWarning: This pattern has match groups. To actually get the groups, use str.extract.\n"
     ]
    }
   ],
   "source": [
    "found_table = False\n",
    "for page in [OFFSET]:#document:#\n",
    "    try:\n",
    "        table = tabula.read_pdf(path, pages=page, area=[300,0,1000,300])\n",
    "        print(table)\n",
    "        p = table.T.reset_index().T\n",
    "        p = p.apply(lambda x: x.astype(str).str.lower())\n",
    "        p = p[p[0].isin(['equity','fixed income', 'alternatives', 'hybrid', 'multi-asset'])]\n",
    "        print(p[[0,1]], '\\n')\n",
    "        q = p[1].str.contains('^([\\d$%]|dollars|usd|million|billion|bn|mill)+$', regex=True)\n",
    "        if (p[0].count()>1 and (False not in q.values)):\n",
    "            print('Result found, saving p', page)\n",
    "            found_table = True\n",
    "        else:\n",
    "            print('Invalid values')\n",
    "    except:\n",
    "        print(\"Warning: Couldn't convert page\", page, \" to a table. Either doesn't contain one or error occured.\")\n",
    "    \n",
    "\n",
    "    "
   ]
  },
  {
   "cell_type": "markdown",
   "metadata": {},
   "source": [
    "If no tables are found, we continue trying to text mine the expected results. This Python2 script looks for conversational sentences."
   ]
  },
  {
   "cell_type": "code",
   "execution_count": null,
   "metadata": {
    "collapsed": true
   },
   "outputs": [],
   "source": [
    "if not (found_table):\n",
    "    for page in document:\n",
    "        "
   ]
  },
  {
   "cell_type": "markdown",
   "metadata": {},
   "source": [
    "If we still haven't found results, we simply looks for words like fixed income and try to see if there is a number next to then that could be the value we are looking for."
   ]
  },
  {
   "cell_type": "code",
   "execution_count": null,
   "metadata": {
    "collapsed": true
   },
   "outputs": [],
   "source": []
  }
 ],
 "metadata": {
  "celltoolbar": "Raw Cell Format",
  "kernelspec": {
   "display_name": "Python 3",
   "language": "python",
   "name": "python3"
  },
  "language_info": {
   "codemirror_mode": {
    "name": "ipython",
    "version": 3
   },
   "file_extension": ".py",
   "mimetype": "text/x-python",
   "name": "python",
   "nbconvert_exporter": "python",
   "pygments_lexer": "ipython3",
   "version": "3.6.0"
  }
 },
 "nbformat": 4,
 "nbformat_minor": 2
}
