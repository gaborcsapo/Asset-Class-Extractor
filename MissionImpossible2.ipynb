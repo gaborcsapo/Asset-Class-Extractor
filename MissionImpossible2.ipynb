{
 "cells": [
  {
   "cell_type": "code",
   "execution_count": 1,
   "metadata": {
    "collapsed": false,
    "scrolled": true
   },
   "outputs": [],
   "source": [
    "import asset_miner as A\n",
    "from importlib import reload"
   ]
  },
  {
   "cell_type": "code",
   "execution_count": 6,
   "metadata": {
    "collapsed": false,
    "scrolled": true
   },
   "outputs": [
    {
     "name": "stdout",
     "output_type": "stream",
     "text": [
      "                                                                   \r"
     ]
    }
   ],
   "source": [
    "reload(A)\n",
    "A.main()"
   ]
  },
  {
   "cell_type": "code",
   "execution_count": 7,
   "metadata": {
    "collapsed": true
   },
   "outputs": [],
   "source": [
    "A.clean_up('.txt')"
   ]
  },
  {
   "cell_type": "code",
   "execution_count": 6,
   "metadata": {
    "collapsed": false,
    "scrolled": true
   },
   "outputs": [
    {
     "ename": "SyntaxError",
     "evalue": "invalid syntax (<ipython-input-6-8c167a7ee295>, line 7)",
     "output_type": "error",
     "traceback": [
      "\u001b[0;36m  File \u001b[0;32m\"<ipython-input-6-8c167a7ee295>\"\u001b[0;36m, line \u001b[0;32m7\u001b[0m\n\u001b[0;31m    df =\u001b[0m\n\u001b[0m         ^\u001b[0m\n\u001b[0;31mSyntaxError\u001b[0m\u001b[0;31m:\u001b[0m invalid syntax\n"
     ]
    }
   ],
   "source": [
    "import pandas as pd\n",
    "import numpy as np\n",
    "s = pd.Series(['08. Templeton Investments (US)','2009','/home/gabor/Work/PDFMining/docs/08. Templeton',np.nan,'47%',8,1,1,1,1,1,1,1], index=['name', 'date', 'file', 'equity', 'equity%', 'fixed income', 'fixed income%', 'alternative', 'alternative%', 'multi-asset','multi-asset%', 'money market', 'money market%'])\n",
    "t = pd.Series(['08. Templeton Investments (US)','2009','/home/gabor/Work/PDFMining/docs/08. Templeton',np.nan,'50 USD',9,1,1,1,1,1,1,1], index=['name', 'date', 'file', 'equity', 'equity%', 'fixed income', 'fixed income%', 'alternative', 'alternative%', 'multi-asset','multi-asset%', 'money market', 'money market%'])\n",
    "u = pd.Series(['08. Templeton Investments (US)','2009','/home/gabor/Work/PDFMining/docs/08. Templeton',np.nan,6,10,1,1,1,1,1,1,1], index=['name', 'date', 'file', 'equity', 'equity%', 'fixed income', 'fixed income%', 'alternative', 'alternative%', 'multi-asset','multi-asset%', 'money market', 'money market%'])\n",
    "\n",
    "df = \n",
    "#.reset_index().loc[1:]\n",
    "r = \n",
    "\n",
    "#for ind, i in r.iteritems():\n",
    "#    r.loc[ind] = 'q'\n",
    "print(r)\n",
    "\n"
   ]
  },
  {
   "cell_type": "code",
   "execution_count": 7,
   "metadata": {
    "collapsed": false
   },
   "outputs": [
    {
     "name": "stdout",
     "output_type": "stream",
     "text": [
      "[('equity', '', '', '', '')] 1\n"
     ]
    }
   ],
   "source": [
    "import re\n",
    "class_search = re.compile(r'(?:(equities|equity|stocks?)|(fixed income|bonds?)|(alternatives?)|(multi[ -]assets?|hybrid)|(cash management|money markets?))', re.IGNORECASE)\n",
    "bla = \"We are very good at managing equities, but fixed income is really cool as well. We invested however 3 billion in alternatives as well.\"\n",
    "blabla = \"there shouldn't be equity anything herer\"\n",
    "class_match = class_search.findall(blabla)\n",
    "print(class_match, len(class_match))"
   ]
  },
  {
   "cell_type": "code",
   "execution_count": 83,
   "metadata": {
    "collapsed": false
   },
   "outputs": [
    {
     "name": "stdout",
     "output_type": "stream",
     "text": [
      "4\n"
     ]
    }
   ],
   "source": [
    "a = '1 2 3 4 5 6 4'\n",
    "r = re.findall(r'\\d',a)\n",
    "print(max(set(r), key=r.count))"
   ]
  },
  {
   "cell_type": "code",
   "execution_count": null,
   "metadata": {
    "collapsed": true
   },
   "outputs": [],
   "source": []
  }
 ],
 "metadata": {
  "kernelspec": {
   "display_name": "Python 3",
   "language": "python",
   "name": "python3"
  },
  "language_info": {
   "codemirror_mode": {
    "name": "ipython",
    "version": 3
   },
   "file_extension": ".py",
   "mimetype": "text/x-python",
   "name": "python",
   "nbconvert_exporter": "python",
   "pygments_lexer": "ipython3",
   "version": "3.6.0"
  }
 },
 "nbformat": 4,
 "nbformat_minor": 2
}
