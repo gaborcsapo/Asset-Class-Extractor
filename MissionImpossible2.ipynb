{
 "cells": [
  {
   "cell_type": "code",
   "execution_count": 96,
   "metadata": {
    "collapsed": false,
    "scrolled": true
   },
   "outputs": [],
   "source": [
    "import asset_miner as A\n",
    "from os import listdir\n",
    "from importlib import reload\n",
    "from os.path import isfile, join\n",
    "files = [f for f in listdir('./docs') if isfile(join('./docs', f))]"
   ]
  },
  {
   "cell_type": "code",
   "execution_count": 97,
   "metadata": {
    "collapsed": false,
    "scrolled": false
   },
   "outputs": [
    {
     "data": {
      "text/plain": [
       "<module 'asset_miner' from '/home/gabor/Work/PDFMining/asset_miner.py'>"
      ]
     },
     "execution_count": 97,
     "metadata": {},
     "output_type": "execute_result"
    }
   ],
   "source": [
    "reload(A)"
   ]
  },
  {
   "cell_type": "code",
   "execution_count": 98,
   "metadata": {
    "collapsed": false,
    "scrolled": true
   },
   "outputs": [
    {
     "name": "stderr",
     "output_type": "stream",
     "text": [
      "PdfReadWarning: Xref table not zero-indexed. ID numbers for objects will be corrected. [pdf.py:1800]\n"
     ]
    },
    {
     "name": "stdout",
     "output_type": "stream",
     "text": [
      "None\n",
      "####LOADING PDF####\n",
      "p 0  is loading\n",
      "p 1  is loading\n",
      "p 2  is loading\n",
      "Document loaded\n",
      "####TABLE EXTRACTION####\n",
      "Unsuccessful table search: page 8 Error tokenizing data. C error: Expected 5 fields in line 8, saw 7\n",
      "\n",
      "Results after p 8 :  2\n",
      "[name                                     08. Invesco (US) 2010.pdf\n",
      "equity                                                      $294.1\n",
      "equity%                                                        NaN\n",
      "fixed income                                                $131.9\n",
      "fixed income%                                                  NaN\n",
      "alternative                                                    NaN\n",
      "alternative%                                                   NaN\n",
      "multi-asset                                                    NaN\n",
      "multi-asset%                                                   NaN\n",
      "money market                                                 $68.3\n",
      "money market%                                                  NaN\n",
      "file             /home/gabor/Work/PDFMining./docs/08. Invesco (...\n",
      "dtype: object, name                                     08. Invesco (US) 2010.pdf\n",
      "equity                                                      $294.1\n",
      "equity%                                                        NaN\n",
      "fixed income                                                $131.9\n",
      "fixed income%                                                  NaN\n",
      "alternative                                                  $78.7\n",
      "alternative%                                                   NaN\n",
      "multi-asset                                                    NaN\n",
      "multi-asset%                                                   NaN\n",
      "money market                                                 $68.3\n",
      "money market%                                                  NaN\n",
      "file             /home/gabor/Work/PDFMining./docs/08. Invesco (...\n",
      "dtype: object]\n",
      "####TEXT EXTRACTION####\n",
      "Results after p 8 :  0\n",
      "[('equity', 'CL'), ('$7.2 billion ', 'NU'), (' 31', 'NU'), (' 2010', 'NU')]\n",
      "Results after p 9 :  0\n",
      "[(' 2009 ', 'NU'), ('equity', 'CL')]\n",
      "[(' 2009 ', 'NU'), ('equity', 'CL')]\n",
      "[(' 2009 ', 'NU'), ('equity', 'CL')]\n",
      "Results after p 10 :  0\n"
     ]
    }
   ],
   "source": [
    "a = A.Document(files[9])\n",
    "A.extract(a)"
   ]
  },
  {
   "cell_type": "code",
   "execution_count": null,
   "metadata": {
    "collapsed": true
   },
   "outputs": [],
   "source": []
  }
 ],
 "metadata": {
  "kernelspec": {
   "display_name": "Python 3",
   "language": "python",
   "name": "python3"
  },
  "language_info": {
   "codemirror_mode": {
    "name": "ipython",
    "version": 3
   },
   "file_extension": ".py",
   "mimetype": "text/x-python",
   "name": "python",
   "nbconvert_exporter": "python",
   "pygments_lexer": "ipython3",
   "version": "3.6.0"
  }
 },
 "nbformat": 4,
 "nbformat_minor": 2
}
