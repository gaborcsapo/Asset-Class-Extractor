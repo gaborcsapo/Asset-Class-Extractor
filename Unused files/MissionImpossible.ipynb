{
 "cells": [
  {
   "cell_type": "markdown",
   "metadata": {},
   "source": [
    "Getting the number of pages in the PDF document. I altered the original PDFMiner library in tools/pdf2txt.py so that with the extra -Q argument, the script returns the no of pages."
   ]
  },
  {
   "cell_type": "code",
   "execution_count": 48,
   "metadata": {
    "collapsed": false,
    "scrolled": true
   },
   "outputs": [
    {
     "name": "stdout",
     "output_type": "stream",
     "text": [
      "['29. Northern Trust Asset Mgmt. (US) 2010.pdf', '12. BlackRock (US) 2009.pdf', '10. Rowe Price (US) 2012.pdf', '91. Allianz Group (Germany) 2010.pdf', \"99. but in fact it's 108 J.P. Morgan Chase (US) 2013.pdf\", '08. Templeton Investments (US) 2009.pdf', '37. Bank of New York Mellon (US) 2015.pdf', '11. Schroders Investment Managment (UK) 2012.pdf', '51. Goldman Sachs (US) 2010.pdf', '08. Invesco (US) 2010.pdf', '53. Deutsche Bank (Germany) 2012.pdf']\n",
      "08. Invesco (US) 2010.pdf\n",
      "Number of pages:  3\n"
     ]
    }
   ],
   "source": [
    "import subprocess\n",
    "import re\n",
    "import tabula\n",
    "import nltk\n",
    "from os import remove as DeleteFile\n",
    "from os import listdir\n",
    "from os.path import isfile, join\n",
    "import pandas as pd\n",
    "from PyPDF2 import PdfFileReader\n",
    "#getting file names from docs\n",
    "mypath = './docs'\n",
    "files_docs = [f for f in listdir(mypath) if isfile(join(mypath, f))]\n",
    "file = files_docs[9]\n",
    "print(files_docs)\n",
    "#checking if name meets standards for later printing use\n",
    "pattern = re.compile(\"^\\d{2,3}\\. [\\S\\s]+? \\([A-Za-z ]+\\) \\d{4} ?Q?[1-4]?\")\n",
    "match = pattern.match(file)\n",
    "if (match):\n",
    "    title = match.string\n",
    "    print(title)\n",
    "path = \"./docs/\" + file\n",
    "OFFSET = int(file[0:2])\n",
    "OFFSET_STRING = str(OFFSET)+','+str(OFFSET+1)+','+str(OFFSET+2)\n",
    "\n",
    "cmd = ['python2', './pdf2txt/tools/pdf2txt.py', '-p', OFFSET_STRING, '-t', 'text', '-Q', path]\n",
    "p = subprocess.Popen(cmd, stdout=subprocess.PIPE, stderr=subprocess.PIPE)\n",
    "temp, error = p.communicate()\n",
    "if error:\n",
    "    print(error.decode(\"utf-8\"))\n",
    "pages = int(temp.decode(\"utf-8\"))\n",
    "print('Number of pages: ', pages)"
   ]
  },
  {
   "cell_type": "markdown",
   "metadata": {},
   "source": [
    "I load the pages into the document object."
   ]
  },
  {
   "cell_type": "code",
   "execution_count": 49,
   "metadata": {
    "collapsed": false
   },
   "outputs": [
    {
     "name": "stdout",
     "output_type": "stream",
     "text": [
      "p 0  is loading\n",
      "p 1  is loading\n",
      "p 2  is loading\n",
      "Document loaded\n"
     ]
    }
   ],
   "source": [
    "document = {}\n",
    "for page in range(pages):\n",
    "    print(\"p\",page, \" is loading\")\n",
    "    document[OFFSET+page] = ''\n",
    "    #cmd = [\"python2 ./pdf2txt/tools/pdf2txt.py -o ./temp/output\"+str(page)+\".txt -p \"+ str(OFFSET+page) +\" -t text '\" + path+\"'\"]\n",
    "    #subprocess.call(cmd, shell = True)\n",
    "    cmd = [\"python2\", \"./pdf2txt/tools/pdf2txt.py\", \"-o\", \"./temp/output\"+str(OFFSET+page)+\".txt\", \"-p\", str(OFFSET+page),\"-t\", \"text\", path]\n",
    "    p = subprocess.Popen(cmd, stdout=subprocess.PIPE, stderr=subprocess.PIPE)\n",
    "    temp, error = p.communicate()\n",
    "    if error:\n",
    "        print(error.decode(\"utf-8\"))\n",
    "        \n",
    "    with open(\"./temp/output\"+str(page)+\".txt\", \"r\") as page_output:\n",
    "        for line in page_output:\n",
    "            document[OFFSET+page] += line.strip().lower() + ' '\n",
    "    page_output.close()\n",
    "#DeleteFile('./output.txt')    \n",
    "print(\"Document loaded\")"
   ]
  },
  {
   "cell_type": "markdown",
   "metadata": {},
   "source": [
    "Once loaded, the document has to go through a basic page scoring step. If the page doesn't contain Asset/Investment allocation or the two words equity and fixed income, then the page is thrown away."
   ]
  },
  {
   "cell_type": "code",
   "execution_count": 50,
   "metadata": {
    "collapsed": false,
    "scrolled": true
   },
   "outputs": [
    {
     "name": "stdout",
     "output_type": "stream",
     "text": [
      "[('', '', 'equities, 28% in fixed income', 'ies', '', '')]\n",
      "[('', '', 'equity and multi- asset class offerings accounting for 47% and 5% of total emea client aum, respectively, and our relatively newer fixed income', 'y', '', ''), ('', '', 'equities, 41% in fixed income', 'ies', '', ''), ('', '', 'equities, 38% in fixed income', 'ies', '', ''), ('', '', 'equities, fixed income', 'ies', '', '')]\n",
      "[('', '', 'equities, 24%, or $93.2 billion, in fixed income', 'ies', '', ''), ('', '', 'equity and fixed income', 'y', '', '')]\n"
     ]
    }
   ],
   "source": [
    "page_nomination = []\n",
    "case1 = \"(?:asset|investments?)\\sallocation\"\n",
    "case2 = \"equit(?:y|ies)[\\s\\S]*?fixed\\sincome\"\n",
    "case3 = \"fixed\\sincome[\\s\\S]*?equit(?:y|ies)\"\n",
    "cases = \"(?:\"+case1+\")|(?:\"+case2+\")|(?:\"+case3+\")\"\n",
    "p = re.compile(cases)\n",
    "for page in document:\n",
    "    matches = p.findall(document[page])\n",
    "    if matches:\n",
    "        page_nomination.append(page)\n",
    "    print(matches)\n",
    "#taking subset of original document object\n",
    "document = {k: document[k] for k in page_nomination}\n"
   ]
  },
  {
   "cell_type": "markdown",
   "metadata": {},
   "source": [
    "To analyze the pages, first I'll try to convert it to a table and then I'll validate the first table column entries (equity, fixed income, and optionally multi asset and alternatives) I'll also try to look for columns indicating years."
   ]
  },
  {
   "cell_type": "code",
   "execution_count": 76,
   "metadata": {
    "collapsed": false,
    "scrolled": true
   },
   "outputs": [
    {
     "name": "stderr",
     "output_type": "stream",
     "text": [
      "PdfReadWarning: Xref table not zero-indexed. ID numbers for objects will be corrected. [pdf.py:1800]\n"
     ]
    },
    {
     "name": "stdout",
     "output_type": "stream",
     "text": [
      "Unsuccessful table search: page 8 Error tokenizing data. C error: Expected 5 fields in line 8, saw 7\n",
      "\n",
      "equity equity $294.1 <_sre.SRE_Match object; span=(7, 13), match='$294.1'>\n",
      "money market money market $68.3 <_sre.SRE_Match object; span=(13, 18), match='$68.3'>\n",
      "fixed income fixed income $131.9 <_sre.SRE_Match object; span=(13, 19), match='$131.9'>\n",
      "alternative alternative None\n",
      "Result found, saving p 8\n",
      "                  08. Invesco (US) 2010.pdf\n",
      "equities                                NaN\n",
      "equities %                              NaN\n",
      "fixed income                         $131.9\n",
      "fixed income %                          NaN\n",
      "alternative                             NaN\n",
      "alternative %                           NaN\n",
      "multi-asset                             NaN\n",
      "multi-asset %                           NaN\n",
      "cash management                         NaN\n",
      "cash management %                       NaN\n",
      "equity                               $294.1\n",
      "money market                          $68.3                    ($ billions)  1-Yr Change    Unnamed: 2 Unnamed: 3  \\\n",
      "0                 Equity $294.1        52.6%           NaN        NaN   \n",
      "1                Balanced $43.5         9.0%           NaN        NaN   \n",
      "2            Money Market $68.3      (18.2)%           NaN        NaN   \n",
      "3           Fixed Income $131.9        73.3%           NaN        NaN   \n",
      "4       EquityAlternative $78.7        16.9%         47.7%        NaN   \n",
      "5                  Total $616.5        34.2%           NaN        NaN   \n",
      "6                           NaN          NaN           NaN        NaN   \n",
      "7                           NaN          NaN           NaN        NaN   \n",
      "8                           NaN          NaN           NaN        NaN   \n",
      "9                           NaN          NaN           NaN        NaN   \n",
      "10                          NaN          NaN           NaN        NaN   \n",
      "11          Non-Passive/Passive          NaN           NaN        NaN   \n",
      "12                          NaN          NaN           NaN        NaN   \n",
      "13                 ($ billions)  1-Yr Change  Non-Passiv e        NaN   \n",
      "14           Non-Passive $535.7        31.8%           NaN        87%   \n",
      "15  ETF, UIT, and Passive $80.8        52.5%           NaN        NaN   \n",
      "16                 Total $616.5        34.2%           NaN        NaN   \n",
      "\n",
      "      Unnamed: 4  \n",
      "0            NaN  \n",
      "1            NaN  \n",
      "2            NaN  \n",
      "3   Fixed Income  \n",
      "4          21.3%  \n",
      "5            NaN  \n",
      "6            NaN  \n",
      "7            NaN  \n",
      "8    Alternative  \n",
      "9          12.8%  \n",
      "10           NaN  \n",
      "11           NaN  \n",
      "12           NaN  \n",
      "13           NaN  \n",
      "14           NaN  \n",
      "15           NaN  \n",
      "16           NaN  \n"
     ]
    }
   ],
   "source": [
    "found_table = False\n",
    "input1 = PdfFileReader(open(path, \"rb\"))\n",
    "try:\n",
    "    page = input1.getPage(0)\n",
    "except:\n",
    "    input1.decrypt('')\n",
    "    page = input1.getPage(0)\n",
    "\n",
    "top = page.mediaBox.upperRight[1]\n",
    "right = page.mediaBox.upperRight[0]\n",
    "bottom = page.mediaBox.lowerLeft[1]\n",
    "left = page.mediaBox.lowerLeft[0]\n",
    "areas = [[top, left, bottom, right],\n",
    "         [top, left, (bottom+top)/2, right],[(bottom+top)/2, left, bottom, right],\n",
    "         [top, left, (bottom+top)/2, (right+left)/2],[top, (right+left)/2, (bottom+top)/2, right],\n",
    "         [(bottom+top)/2, (right+left)/2, bottom, right],[(bottom+top)/2, left, bottom, (right+left)/2]\n",
    "        ]\n",
    "\n",
    "k = re.compile('allocation|fixed income|equity|equities|hybrid|[Aa]lternative|multi[- ]asset|cash management|money market', re.IGNORECASE)\n",
    "j = re.compile('(?:USD|US dollars?|dollars?|[$¢£¤¥֏؋৲৳৻૱௹฿៛\\u20a0-\\u20bd\\ua838\\ufdfc\\ufe69\\uff04\\uffe0\\uffe1\\uffe5\\uffe6])?\\d+(?:[ ,\\.-]?\\d+){0,3}(?:million|thousand|hundred|billion|M|B|T|K|m|bn|tn)?(?:USD|US dollars?|dollars?|[$¢£¤¥֏؋৲৳৻૱௹฿៛\\u20a0-\\u20bd\\ua838\\ufdfc\\ufe69\\uff04\\uffe0\\uffe1\\uffe5\\uffe6])?', re.IGNORECASE)\n",
    "df = pd.DataFrame([], columns=['equities', 'equities %', 'fixed income', 'fixed income %', 'alternative', 'alternative %', 'multi-asset','multi-asset %', 'cash management', 'cash management %'], index=[title])\n",
    "\n",
    "for page in [OFFSET]:#document:#\n",
    "    for  area in areas:\n",
    "        try:\n",
    "            table = tabula.read_pdf(path, pages=page, area = area)\n",
    "            p = table.T.reset_index().T\n",
    "            p = p.apply(lambda x: x.astype(str).str.lower())\n",
    "            for row_ind, row in p.iterrows():\n",
    "                search = True\n",
    "                for col_ind, col in row.iteritems():\n",
    "                    if search: \n",
    "                        if (len(k.findall(col))>1):\n",
    "                            break\n",
    "                        if bool(k.search(col)):\n",
    "                            asset = k.search(col).group(0)\n",
    "                            search = False\n",
    "                            \n",
    "                            if bool(j.search(col)):\n",
    "                                df[asset] = j.search(col).group(0)\n",
    "                                break\n",
    "                    else:\n",
    "                        if bool(j.search(col)):\n",
    "                            df[asset] = j.search(col).group(0)\n",
    "                            break\n",
    "                        \n",
    "            if (df.T.count()[0] > 2):\n",
    "                print('Result found, saving p', page)\n",
    "                found_table = True\n",
    "                print(df.T)\n",
    "                break\n",
    "            else:\n",
    "                print('Invalid values')            \n",
    "        except Exception as inst:\n",
    "            print(\"Unsuccessful table search: page\", page, inst)\n",
    "\n",
    "\n",
    "    "
   ]
  },
  {
   "cell_type": "markdown",
   "metadata": {},
   "source": [
    "If no tables are found, we continue trying to text mine the expected results. This Python2 script looks for conversational sentences."
   ]
  },
  {
   "cell_type": "code",
   "execution_count": 11,
   "metadata": {
    "collapsed": false,
    "scrolled": true
   },
   "outputs": [
    {
     "name": "stdout",
     "output_type": "stream",
     "text": [
      "['Portfolios may be invested in local, regional or global capital markets.', 'Products may be structured to address location-specific issues, such as regulations, taxation, operational infra-structure, and market liquidity, and client-specific issues, such as investment policy, liability structure and ratings.', 'At year-end 2009, assets managed on behalf of clients domiciled in the United States and Canada (including offshore investors), totaled $2.042 trillion or 61% of total AUM, an increase of $1.070 trillion versus reported AUM at December 31, 2008.', 'On a pro forma combined basis, AUM increased 19% or $322.3 billion, including $62.1 billion of net new business and $264.4 billion from invest-ment performance and market appreciation.', 'Offerings include closed-end funds and iShares traded on domestic stock exchanges, a full range of open-end mutual funds, collective investment funds, common trusts, private funds and separate accounts.', 'Clients invest across the full product range, as evidenced by the year-end mix of 45% in equities, 28% in fixed income, 4% in multi-asset class, 3% in alternatives, 13% in cash management and 7% in advisory mandates.', 'In addition, we have a wide variety  BlackRock manages money for institutional and retail investors worldwide.', 'Our client base is diversi-fied by both geography and client type.', 'We serve clients through 74 offices across four regions: United States and Canada; Europe, the Middle East and Africa (“EMEA”); Asia Pacific; and Latin America and Iberia.', 'Clients include tax-exempt institutions, such as defined benefit and defined contribution pension plans, charities, foundations and endowments; official institutions, such as central banks, sovereign wealth funds, supranationals and other government entities; taxable institutions, including insurance companies, financial institutions, corporations and third party fund sponsors; and retail and high net worth investors.', 'We also serve both institutional and retail investors who acquire iShares on stock exchanges worldwide.GLOBAL PRESENCEBlackRock serves clients in more than 100 countries through the efforts of professionals located in 24 coun-tries.', 'Our global presence enables us to deliver highly responsive service and to tailor our offerings to best  OUR CLIENTSBLACKROCK  n  10  n   OUR CLIENTS193253T&I_BLACKROCK AR09_NARR_R2.']\n",
      "['Clients invest across the full product range, as evidenced by the year-end mix of 45% in equities, 28% in fixed income, 4% in multi-asset class, 3% in alternatives, 13% in cash management and 7% in advisory mandates.']\n",
      "['BLACKROCK  n  11  n   OUR CLIENTSof BlackRock Solutions assignments for institutional investors and governmental entities in the United States and Canada.AUM for clients domiciled in EMEA ended the year at $936.0 billion or 28% of total AUM, an increase of $691.4 billion relative to reported AUM at December 31, 2008.', 'During the year, clients awarded us net new business of $88.4 billion on a pro forma combined basis, including inflows from clients in 31 countries across the region.', 'Our offerings include fund families in the United Kingdom  (“U.K.”), Luxembourg and Dublin, and iShares listed on eight stock exchanges throughout EMEA, as well as separate accounts and pooled investment products.', 'The product mix reflected the evolution of our product line-up in the region, with more established equity and multi- asset class offerings accounting for 47% and 5% of total EMEA client AUM, respectively, and our relatively newer fixed income, alternatives and cash management products representing 36%, 3% and 9% of EMEA client AUM at year-end, respectively.', 'In addition, advisory AUM represented less than 1% of EMEA client AUM, and we have Aladdin, risk management and financial advisory assignments for institutional investors and governmental entities throughout Europe.', 'Clients in the Asia Pacific region are served through offices in Japan, Australia, Hong Kong, Singapore, Taiwan and Korea and joint ventures in China and India.', 'At December 31, 2009, we managed $347.5 billion of AUM for clients in the region, an increase of 20% or $58.1 billion on a pro forma basis.', 'Net new business contributed $7.3 billion, and the remainder of the increase was attrib-utable to investment performance and favorable market movements.', 'At year-end, the mix of products managed for these clients consisted of 48% in equities, 41% in fixed income, 4% in multi-asset class, 5% in alternatives, 1% in advisory and less than 1% in cash management products.', 'BlackRock’s business in Latin America and Iberia grew significantly during the year, from $6.8 billion of reported AUM at year-end 2008 to $21.1 billion of AUM in December 31, 2009.', 'On a pro forma combined basis, AUM increased $9.6 billion or 83%, driven by net new business of $1.9 billion, acquired assets of $3.8 billion (reflecting the BGI acquisition of the NAFTRAC ETF platform in Mexico in the first half of 2009) and $3.9  billion of investment performance and market and  foreign exchange appreciation.', 'BlackRock is the largest manager of pension plan assets in Mexico, Chile, Peru and Colombia, with clients using a combination of BlackRock’s domestic and cross-border investment offerings.', 'At year-end, the product mix consisted of 55% in equities, 38% in fixed income, 7% in multi-asset class, and less than 1% in each of alternatives and cash management products.INSTITUTIONAL INVESTORS Assets managed for institutional investors totaled  $2.462 trillion at year-end 2009, up 142%, or $1.447 tril-lion, relative to reported AUM at year-end 2008.', 'Our  institutional clients invest in the full range of products offered by BlackRock.', 'At year-end, institutional AUM included $2.182 trillion invested in a wide variety of  long-dated mandates and $280.4 billion invested in insti-tutional cash management products.', 'Net new business during the year reflected the shift in investor appetite for higher returns and the resulting reallocation from money market funds to equities, fixed income, multi-asset class and alternative investments.', 'On a pro forma combined basis, AUM increased $397.0 billion, or 19%, during the year, including $126.5 billion of net new business in long-dated assets, which was partially offset by $37.9 billion of net outflows in institutional cash products.', 'The remaining pro forma combined growth of $309.8 billion represented investment performance and market and foreign  exchange appreciation.', 'Our institutional client base is well diversified by both client domicile and client segment.', 'At December 31, 2009, approximately 56% or $1.370 trillion of AUM was managed for clients based in the United States and Canada, 32% or $776.5 billion for clients in EMEA, 13% or $309.3 billion for clients in Asia Pacific and less than 1% or $6.5 billion for clients in Latin America and Iberia.', 'Globally, these clients spanned a broad range of tax- exempt, taxable and official institutions, as described below.', 'BlackRock is among the largest managers of pension plan assets in the world, with $1.403 trillion, or 57%, of institutional AUM managed for defined benefit and defined contribution plans for corporations, public funds and union funds at December 31, 2009.', 'An additional $61.8 billion or 2.5% of year-end institutional AUM was managed for other tax-exempt investors, including charities, foundations and endowments.', 'Assets managed for these clients grew $313.1 billion on a pro forma combined basis during 2009, as tax-exempt investors 193253T&I_BLACKROCK AR09_NARR_R2.']\n",
      "['The product mix reflected the evolution of our product line-up in the region, with more established equity and multi- asset class offerings accounting for 47% and 5% of total EMEA client AUM, respectively, and our relatively newer fixed income, alternatives and cash management products representing 36%, 3% and 9% of EMEA client AUM at year-end, respectively.', 'At year-end, the mix of products managed for these clients consisted of 48% in equities, 41% in fixed income, 4% in multi-asset class, 5% in alternatives, 1% in advisory and less than 1% in cash management products.', 'At year-end, the product mix consisted of 55% in equities, 38% in fixed income, 7% in multi-asset class, and less than 1% in each of alternatives and cash management products.INSTITUTIONAL INVESTORS Assets managed for institutional investors totaled  $2.462 trillion at year-end 2009, up 142%, or $1.447 tril-lion, relative to reported AUM at year-end 2008.']\n",
      "['Retail and high net worth investors are largely served through intermediaries, including broker-dealers, banks, trust companies, insurance companies and independent financial advisors.', 'Clients invest primarily in mutual funds, which totaled $289.4 billion or 74% of retail and high net worth AUM at December 31, 2009, with the remainder invested in private investment funds and separately managed accounts.', 'The product mix is well diversified, with 40%, or $153.9 billion, invested in  equities, 24%, or $93.2 billion, in fixed income, 17% in each of multi-asset class ($65.2 billion) and cash management ($67.6 billion), and 2%, or $8.9 billion, in alternative investment products.', 'The client base is also diversified geographically, with $213.8 billion, or 67%, of long-dated AUM managed for retail and high net worth investors based in the United States and Canada, $71.5 billion, or 22%, for investors based in EMEA, $29.6 billion, or 9%, in Asia Pacific, and $6.3 billion, or 2%, in Latin America and Iberia.', 'The remaining $67.6 billion, or 17%, of retail and high net worth AUM is invested in cash management products, principally money market funds offered in the United States.', 'Our success in each of these regions reflects strong relationships with intermediaries and an estab-lished ability to deliver our global investment expertise in funds and other products tailored to local regulations and requirements.', 'Our retail and high net worth offerings include the  BlackRock Funds in the United States, our Luxembourg cross-border fund families, BlackRock Global Funds (“BGF”) and BlackRock Strategic Funds, and a range of retail funds in the U.K. BGF is registered in 37 countries and has more S&P rated funds than any cross-border mutual fund family.', 'In 2009, we were ranked as the third largest cross-border fund provider and the third largest asset gatherer in that universe.', 'In the U.K., we ranked among the seven largest fund managers, and are known for our innovative product offerings, including the  reallocated to a variety of products, including tactical  and core allocations to index equity and fixed income, liability-driven investments and fiduciary outsourcing services.', 'We also managed $240.0 billion or 10% of institutional AUM for official institutions, including central banks, sovereign wealth funds, supranationals, multilateral entities and government ministries and agencies.', 'These clients often require specialized investment policy advice, the use of customized benchmarks, and training support.', 'In addition, BlackRock has been selected to provide a range of financial markets advisory services, including long-term portfolio liquidation assignments counted in advisory AUM, for these clients.', 'During 2009, investment and advisory AUM for official institutions increased  11% or $22.8 billion.', 'BlackRock is also the largest manager of assets for insurance companies, which accounted for $200.8 billion or 8% of institutional AUM at year-end.', 'Assets managed on behalf of these clients increased $43.7 billion during 2009, and included $28.8 billion of net new business driven by a continuing trend toward outsourcing of some or all of the investment function by insurance companies globally.', 'Assets managed for other taxable institutions, including corporations, banks and third party fund sponsors for which we provide sub-advisory services, totaled $286.9 billion or 12% of institutional AUM at year-end.', 'The remaining $269.3 billion or 11% of institutional  AUM was managed on behalf of taxable and tax-exempt institutions invested in our cash management products  at December 31, 2009.', 'RETAIL AND HIGH NET WoRTH BlackRock’s investment management expertise is offered to retail investors globally through separate accounts, open-end and closed-end funds, unit trusts and private investment funds.', 'At December 31, 2009, assets managed for retail and high net worth investors totaled $388.7 billion, up 33%, or $96.9 billion, versus year-end 2008 reported AUM. On a pro forma combined basis, we were awarded net new business of $27.9 billion in long-dated assets, which was partially offset by $21.5 billion of net outflows in money market funds.', 'Investment performance and market appreciation contributed $61.3 billion of  additional AUM growth.BLACKROCK  n  12  n   OUR CLIENTS193253T&I_BLACKROCK AR09_NARR_R3.']\n",
      "['The product mix is well diversified, with 40%, or $153.9 billion, invested in  equities, 24%, or $93.2 billion, in fixed income, 17% in each of multi-asset class ($65.2 billion) and cash management ($67.6 billion), and 2%, or $8.9 billion, in alternative investment products.']\n"
     ]
    }
   ],
   "source": [
    "for page in document:\n",
    "    text = ''\n",
    "    with open(\"./temp/output\"+str(page)+\".txt\", \"r\") as inputfile:\n",
    "        for line in inputfile:\n",
    "            text += line\n",
    "\n",
    "    h = re.compile('[A-Z][^\\.][\\s\\S]*?[^A-Z][.?!](?![A-Z][^a-z]|\\d)')\n",
    "    matches = h.findall(text)\n",
    "    print(matches)\n",
    "    #looking for sentences that might qualify\n",
    "    to_drop = []\n",
    "    j = re.compile('allocation|fixed income|equity|equities|hybrid|multi-assets?|alternatives|mix|management|assets|investment|managed|invested?', re.IGNORECASE)\n",
    "    k = re.compile('allocation|fixed income|equity|equities|hybrid|alternatives|multi-assets?', re.IGNORECASE)\n",
    "    for i in range(len(matches)-1, -1, -1):\n",
    "        matches[i] = matches[i].replace('\\n', ' ').replace('\\r', '')\n",
    "        length = 0 if bool(j.search(matches[i])) else len(j.findall(matches[i]))\n",
    "        if(length < 2 and (not bool(k.search(matches[i])) or not bool(re.search(r'\\d', matches[i])))):\n",
    "            to_drop.append(i)\n",
    "\n",
    "    for i in to_drop:\n",
    "        matches.pop(i)\n",
    "\n",
    "    print(matches)\n"
   ]
  },
  {
   "cell_type": "code",
   "execution_count": 19,
   "metadata": {
    "collapsed": false,
    "scrolled": true
   },
   "outputs": [
    {
     "name": "stdout",
     "output_type": "stream",
     "text": [
      "[('40%', 'PC'), ('$153.9 billion', 'NU'), ('equities', 'CL'), ('24%', 'PC'), ('$93.2 billion', 'NU'), ('fixed income', 'CL'), ('17%', 'PC'), ('multi-asset', 'CL'), ('$65.2 billion', 'NU'), ('cash management', 'CL'), ('$67.6 billion', 'NU'), ('2%', 'PC'), ('$8.9 billion', 'NU'), ('alternative', 'CL')]\n",
      "                  12. BlackRock (US) 2009.pdf\n",
      "equities                       $153.9 billion\n",
      "equities %                                NaN\n",
      "fixed income                    $93.2 billion\n",
      "fixed income %                            NaN\n",
      "alternative                      $8.9 billion\n",
      "alternative %                             NaN\n",
      "multi-asset                     $65.2 billion\n",
      "multi-asset %                             NaN\n",
      "cash management                 $67.6 billion\n",
      "cash management %                         NaN\n"
     ]
    }
   ],
   "source": [
    "#regexs to distinguish dollar values, asset classes and percent values\n",
    "digits = \"\\d+(?:[ ,\\.-]?\\d+){0,3}\"\n",
    "currency = \"(?:USD|US dollars?|dollars?|[$¢£¤¥֏؋৲৳৻૱௹฿៛\\u20a0-\\u20bd\\ua838\\ufdfc\\ufe69\\uff04\\uffe0\\uffe1\\uffe5\\uffe6])\"\n",
    "words = \"(?:(?:million|thousand|hundred|billion|M|B|T|K|m|bn|tn)(?![a-z]))\"\n",
    "\n",
    "classes = '(?:equities|equity|fixed income|alternatives?|multi[ -]assets?|hybrid|cash management)'\n",
    "money = currency+'?\\s?'+digits+'\\s?'+words+'?\\s?'+currency+'?(?![%\\d])'\n",
    "percent = digits+'%'\n",
    "\n",
    "#tokenize into the useful tokens and tag them whether they're nubmers or classes blabla\n",
    "pattern = r''+percent+'|'+classes+'|'+money\n",
    "tokenizer = nltk.tokenize.RegexpTokenizer(pattern)\n",
    "tokens = tokenizer.tokenize(matches[0])\n",
    "regexp_tagger = nltk.tag.RegexpTagger(\n",
    "    [(r''+classes, 'CL'),\n",
    "     (r''+money, 'NU'),\n",
    "     (r''+percent, 'PC'),     \n",
    "    ])\n",
    "tags = regexp_tagger.tag(tokens)\n",
    "print(tags)\n",
    "\n",
    "#we only use the sentence if the number of asset classes match up with the number values. Otherwise it's just a mess\n",
    "pc = 0\n",
    "nu = 0\n",
    "cl = 0\n",
    "for i in tags:\n",
    "    if i[1] == 'PC':\n",
    "        pc += 1\n",
    "    elif i[1] == 'NU':\n",
    "        nu += 1\n",
    "    elif i[1] == 'CL':\n",
    "        cl += 1\n",
    "\n",
    "df = pd.DataFrame([], columns=['equities', 'equities %', 'fixed income', 'fixed income %', 'alternative', 'alternative %', 'multi-asset','multi-asset %', 'cash management', 'cash management %'], index=[title])\n",
    "\n",
    "per = None\n",
    "num = None\n",
    "cla = None\n",
    "if (pc == cl == nu):\n",
    "    for i in tags:        \n",
    "        if i[1] == 'PC':\n",
    "            if per == None:\n",
    "                per = i[0]\n",
    "            else:\n",
    "                print(\"Values didn't match up. Sentence not finished.\")\n",
    "                break\n",
    "        if i[1] == 'NU':\n",
    "            if num == None:\n",
    "                num = i[0]\n",
    "            else:\n",
    "                print(\"Values didn't match up. Sentence not finished.\")\n",
    "                break\n",
    "        if i[1] == 'CL':\n",
    "            if cla == None:\n",
    "                cla = i[0]\n",
    "            else:\n",
    "                print(\"Values didn't match up. Sentence not finished.\")\n",
    "                break\n",
    "        if per and num and cla:\n",
    "            df[cla] = num\n",
    "            df[cla+' %'] = per\n",
    "            per = num = cla = None\n",
    "            \n",
    "elif (cl == pc):\n",
    "    for i in tags:        \n",
    "        if i[1] == 'PC':\n",
    "            if per == None:\n",
    "                per = i[0]\n",
    "            else:\n",
    "                print(\"Values didn't match up. Sentence not finished.\")\n",
    "                break\n",
    "        if i[1] == 'CL':\n",
    "            if cla == None:\n",
    "                cla = i[0]\n",
    "            else:\n",
    "                print(\"Values didn't match up. Sentence not finished.\")\n",
    "                break\n",
    "        if per and cla:\n",
    "            df[cla+' %'] = per\n",
    "            cla = per = None\n",
    "elif (cl == nu):\n",
    "    for i in tags:        \n",
    "        if i[1] == 'NU':\n",
    "            if num == None:\n",
    "                num = i[0]\n",
    "            else:\n",
    "                print(\"Values didn't match up. Sentence not finished.\")\n",
    "                break\n",
    "        if i[1] == 'CL':\n",
    "            if cla == None:\n",
    "                cla = i[0]\n",
    "            else:\n",
    "                print(\"Values didn't match up. Sentence not finished.\")\n",
    "                break\n",
    "        if num and cla:\n",
    "            df[cla] = num\n",
    "            num = cla = None\n",
    "print(df.T)         "
   ]
  },
  {
   "cell_type": "markdown",
   "metadata": {},
   "source": [
    "If we still haven't found results, we simply looks for words like fixed income and try to see if there is a number next to then that could be the value we are looking for."
   ]
  },
  {
   "cell_type": "code",
   "execution_count": null,
   "metadata": {
    "collapsed": true
   },
   "outputs": [],
   "source": []
  }
 ],
 "metadata": {
  "celltoolbar": "Raw Cell Format",
  "kernelspec": {
   "display_name": "Python 3",
   "language": "python",
   "name": "python3"
  },
  "language_info": {
   "codemirror_mode": {
    "name": "ipython",
    "version": 3
   },
   "file_extension": ".py",
   "mimetype": "text/x-python",
   "name": "python",
   "nbconvert_exporter": "python",
   "pygments_lexer": "ipython3",
   "version": "3.6.0"
  }
 },
 "nbformat": 4,
 "nbformat_minor": 2
}
